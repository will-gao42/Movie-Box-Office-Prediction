{
 "cells": [
  {
   "cell_type": "code",
   "execution_count": 1,
   "metadata": {
    "collapsed": true
   },
   "outputs": [],
   "source": [
    "import warnings\n",
    "warnings.filterwarnings('ignore')\n",
    "\n",
    "import numpy as np\n",
    "import pandas as pd\n",
    "\n",
    "from sklearn.linear_model import LinearRegression\n",
    "from sklearn.linear_model import LogisticRegression\n",
    "from sklearn.cross_validation import train_test_split\n",
    "from sklearn import tree\n",
    "from sklearn.linear_model import LassoLarsCV\n",
    "from sklearn.svm import SVC\n",
    "from sklearn.ensemble import RandomForestClassifier\n",
    "from sklearn.svm import SVC\n",
    "\n",
    "from sklearn.metrics import r2_score\n",
    "\n",
    "import matplotlib.pyplot as plt\n",
    "\n",
    "import pickle\n",
    "\n",
    "import operator\n",
    "\n",
    "%matplotlib inline"
   ]
  },
  {
   "cell_type": "markdown",
   "metadata": {},
   "source": [
    "### import data"
   ]
  },
  {
   "cell_type": "code",
   "execution_count": 2,
   "metadata": {
    "collapsed": false
   },
   "outputs": [
    {
     "data": {
      "text/plain": [
       "(3598, 64)"
      ]
     },
     "execution_count": 2,
     "metadata": {},
     "output_type": "execute_result"
    }
   ],
   "source": [
    "movie = pd.read_csv(\"main.csv\")\n",
    "movie.shape"
   ]
  },
  {
   "cell_type": "markdown",
   "metadata": {},
   "source": [
    "### import model"
   ]
  },
  {
   "cell_type": "code",
   "execution_count": 3,
   "metadata": {
    "collapsed": false
   },
   "outputs": [],
   "source": [
    "lasso = pickle.load(open('lasso_regression.pkl', 'rb'))"
   ]
  },
  {
   "cell_type": "markdown",
   "metadata": {},
   "source": [
    "### test model importation"
   ]
  },
  {
   "cell_type": "code",
   "execution_count": 4,
   "metadata": {
    "collapsed": false
   },
   "outputs": [],
   "source": [
    "predictors = movie.ix[:,:'Documentary']\n",
    "target = movie['gross']\n",
    "pred_train, pred_test, tar_train, tar_test = train_test_split(predictors, target, test_size=.3, random_state=123)"
   ]
  },
  {
   "cell_type": "code",
   "execution_count": 5,
   "metadata": {
    "collapsed": false
   },
   "outputs": [
    {
     "name": "stdout",
     "output_type": "stream",
     "text": [
      "training data R-square\n",
      "0.662702521486\n",
      "test data R-square\n",
      "0.526537553705\n"
     ]
    }
   ],
   "source": [
    "rsquared_train=lasso.score(pred_train,tar_train)\n",
    "rsquared_test=lasso.score(pred_test,tar_test)\n",
    "print ('training data R-square')\n",
    "print(rsquared_train)\n",
    "print ('test data R-square')\n",
    "print(rsquared_test)"
   ]
  },
  {
   "cell_type": "markdown",
   "metadata": {
    "collapsed": true
   },
   "source": [
    "### Bin the gross"
   ]
  },
  {
   "cell_type": "code",
   "execution_count": 6,
   "metadata": {
    "collapsed": false
   },
   "outputs": [],
   "source": [
    "gross = target.copy().tolist()\n",
    "gross.sort(reverse=True)\n",
    "bins = [gross[10],gross[20],gross[40],gross[80],gross[160], gross[320], gross[640], gross[1280], gross[2560]]\n",
    "bins = bins[::-1]"
   ]
  },
  {
   "cell_type": "code",
   "execution_count": 7,
   "metadata": {
    "collapsed": false
   },
   "outputs": [
    {
     "data": {
      "text/plain": [
       "(array([1280,  640,  320,  160,   80,   39,   21,   11]),\n",
       " array([  1.32140300e+07,   4.98755890e+07,   9.20010270e+07,\n",
       "          1.43618384e+08,   2.01573391e+08,   2.68488329e+08,\n",
       "          3.34185206e+08,   4.02076689e+08,   4.36471036e+08]))"
      ]
     },
     "execution_count": 7,
     "metadata": {},
     "output_type": "execute_result"
    }
   ],
   "source": [
    "hist = np.histogram(gross, bins=bins)\n",
    "hist"
   ]
  },
  {
   "cell_type": "code",
   "execution_count": 8,
   "metadata": {
    "collapsed": false
   },
   "outputs": [
    {
     "data": {
      "text/plain": [
       "array([9, 9, 9, ..., 0, 0, 0])"
      ]
     },
     "execution_count": 8,
     "metadata": {},
     "output_type": "execute_result"
    }
   ],
   "source": [
    "binned = np.digitize(gross, hist[1])\n",
    "binned"
   ]
  },
  {
   "cell_type": "code",
   "execution_count": 9,
   "metadata": {
    "collapsed": false
   },
   "outputs": [
    {
     "name": "stdout",
     "output_type": "stream",
     "text": [
      "(3598, 64)\n"
     ]
    }
   ],
   "source": [
    "newMovie = pd.concat([predictors, pd.DataFrame(binned, columns=['gross'])], axis=1)\n",
    "print(newMovie.shape)"
   ]
  },
  {
   "cell_type": "code",
   "execution_count": 10,
   "metadata": {
    "collapsed": false
   },
   "outputs": [],
   "source": [
    "newMovie.to_csv('binned.csv', index=False)"
   ]
  },
  {
   "cell_type": "markdown",
   "metadata": {},
   "source": [
    "# classification"
   ]
  },
  {
   "cell_type": "code",
   "execution_count": 10,
   "metadata": {
    "collapsed": true
   },
   "outputs": [],
   "source": [
    "movie = pd.read_csv('binned.csv')\n",
    "col_names = movie.columns.tolist()\n",
    "col_names = [col for col in col_names if col != 'gross']"
   ]
  },
  {
   "cell_type": "code",
   "execution_count": 11,
   "metadata": {
    "collapsed": false
   },
   "outputs": [
    {
     "name": "stdout",
     "output_type": "stream",
     "text": [
      "(3598, 63)\n"
     ]
    }
   ],
   "source": [
    "predictors = movie[col_names]\n",
    "target = movie.gross\n",
    "print(predictors.shape)"
   ]
  },
  {
   "cell_type": "code",
   "execution_count": 12,
   "metadata": {
    "collapsed": true
   },
   "outputs": [],
   "source": [
    "X_train, X_test, y_train, y_test = train_test_split(predictors, target, test_size=.3, random_state=123)\n",
    "pred_train, pred_test, tar_train, tar_test = train_test_split(predictors, target, test_size=.3, random_state=123)"
   ]
  },
  {
   "cell_type": "markdown",
   "metadata": {},
   "source": [
    "## test on linear models"
   ]
  },
  {
   "cell_type": "code",
   "execution_count": 13,
   "metadata": {
    "collapsed": false
   },
   "outputs": [
    {
     "name": "stdout",
     "output_type": "stream",
     "text": [
      "r2_score of linear regression 0.771246802597\n",
      "r2_score of logisticregression 0.516032639375\n",
      "r2_score of decision tree 0.754367733068\n",
      "r2_score of SVC 0.187895236306\n"
     ]
    }
   ],
   "source": [
    "m = LinearRegression()\n",
    "n = LogisticRegression()\n",
    "p = tree.DecisionTreeRegressor()\n",
    "q = SVC()\n",
    "# svr_rbf = SVR(kernel='rbf', C=1, cache_size=20000, coef0=0.1, epsilon=0.3, gamma='auto',\n",
    "#     max_iter=10000)\n",
    "# svr_lin = SVR(kernel='linear', C=1, cache_size=20000, coef0=0.1, epsilon=0.3, gamma='auto',\n",
    "#     max_iter=10000)\n",
    "# svr_sig = SVR(kernel='sigmoid', C=1, cache_size=20000, coef0=0.1, epsilon=0.3, gamma='auto',\n",
    "#     max_iter=10000)\n",
    "\t\n",
    "# y_svr1 = svr_rbf.fit(X_train, y_train).predict(X_test)\n",
    "# y_svr2 = svr_lin.fit(X_train, y_train).predict(X_test)\n",
    "# y_svr3 = svr_sig.fit(X_train, y_train).predict(X_test)\n",
    "y_linReg = m.fit(X_train, y_train).predict(X_test)\n",
    "y_linLog = n.fit(X_train, y_train).predict(X_test)\n",
    "y_tree = p.fit(X_train, y_train).predict(X_test)\n",
    "y_SVC = q.fit(X_train, y_train).predict(X_test)\n",
    "\n",
    "# r2_score1 = r2_score(y_test, y_svr1)\n",
    "# r2_score2 = r2_score(y_test, y_svr2)\n",
    "# r2_score3 = r2_score(y_test, y_svr3)\n",
    "r2_score4 = r2_score(y_test, y_linReg)\n",
    "r2_score5 = r2_score(y_test, y_linLog)\n",
    "r2_score6 = r2_score(y_test, y_tree)\n",
    "r2_score7 = r2_score(y_test, y_SVC)\n",
    "\n",
    "# print('r2_score of svr rbf',r2_score1)\n",
    "# print('r2_score of svr linear',r2_score2)\n",
    "# print('r2_score of svr sigmoid',r2_score3)\n",
    "print('r2_score of linear regression',r2_score4)\n",
    "print('r2_score of logisticregression',r2_score5)\n",
    "print('r2_score of decision tree',r2_score6)\n",
    "print('r2_score of SVC',r2_score7)"
   ]
  },
  {
   "cell_type": "code",
   "execution_count": 14,
   "metadata": {
    "collapsed": false
   },
   "outputs": [
    {
     "data": {
      "image/png": "[encoded data removed]",
      "text/plain": [
       "<matplotlib.figure.Figure at 0x7f4afa81bf60>"
      ]
     },
     "metadata": {},
     "output_type": "display_data"
    },
    {
     "data": {
      "image/png": "[encoded data removed]",
      "text/plain": [
       "<matplotlib.figure.Figure at 0x7f4afa820908>"
      ]
     },
     "metadata": {},
     "output_type": "display_data"
    },
    {
     "data": {
      "image/png": "[encoded data removed]",
      "text/plain": [
       "<matplotlib.figure.Figure at 0x7f4af0bdf278>"
      ]
     },
     "metadata": {},
     "output_type": "display_data"
    }
   ],
   "source": [
    "def drawPlot(y1, y2, title):\n",
    "\tplt.scatter(y1, y2)\n",
    "\tplt.xlabel('predict_gross')\n",
    "\tplt.ylabel('real_gross')\n",
    "\tplt.title(title)\n",
    "\tplt.show()\n",
    "    \n",
    "# plt.figure(1)\n",
    "# drawPlot(y_svr1, y_test, 'svr rbf')\n",
    "# plt.figure(2)\n",
    "# drawPlot(y_svr2, y_test, 'svr linear')\n",
    "# plt.figure(3)\n",
    "# drawPlot(y_svr3, y_test, 'svr sigmoid')\n",
    "plt.figure(4)\n",
    "drawPlot(y_linReg, y_test, 'LinearRegression')\n",
    "plt.figure(5)\n",
    "drawPlot(y_linLog, y_test, 'LogisticRegression')\n",
    "plt.figure(6)\n",
    "drawPlot(y_tree, y_test, 'DecisionTreeRegressor')"
   ]
  },
  {
   "cell_type": "code",
   "execution_count": 15,
   "metadata": {
    "collapsed": false
   },
   "outputs": [
    {
     "data": {
      "text/plain": [
       "[('budget', 0.88147872576344921),\n",
       " ('num_voted_users', 0.028665829799638571),\n",
       " ('imdb_score', 0.0089381267631408329),\n",
       " ('topic7', 0.0074233715817358945),\n",
       " ('movie_facebook_likes', 0.0058382985408264015),\n",
       " ('cast_total_facebook_likes', 0.0055156405506732696),\n",
       " ('duration', 0.0043892612480971593),\n",
       " ('actor_3_facebook_likes', 0.0039612597408392328),\n",
       " ('num_critic_for_reviews', 0.0035857076860517597),\n",
       " ('topic1', 0.003527346128096057),\n",
       " ('num_user_for_reviews', 0.0033903051269470702),\n",
       " ('topic15', 0.003354331383724405),\n",
       " ('topic5', 0.003253173061361071),\n",
       " ('actor_1_facebook_likes', 0.003191841237077117),\n",
       " ('topic0', 0.0020777895044625681),\n",
       " ('topic17', 0.0020642239071821957),\n",
       " ('topic10', 0.0017584448711225953),\n",
       " ('topic24', 0.0017279767614202543),\n",
       " ('topic26', 0.0017075476970101764),\n",
       " ('topic11', 0.0016899171318590785),\n",
       " ('topic19', 0.001470970612000078),\n",
       " ('topic3', 0.0012435130348708173),\n",
       " ('Crime', 0.0011168432186689215),\n",
       " ('director_facebook_likes', 0.0010999053518630417),\n",
       " ('actor_2_facebook_likes', 0.0010711027089553131),\n",
       " ('topic14', 0.0010167671272453013),\n",
       " ('topic8', 0.00098584877037606491),\n",
       " ('topic6', 0.00096873714793827318),\n",
       " ('Music', 0.00087950683818802361),\n",
       " ('topic29', 0.00080430330296185409),\n",
       " ('topic25', 0.00077665873228445871),\n",
       " ('topic20', 0.00076065308270573432),\n",
       " ('topic13', 0.00071447112296303119),\n",
       " ('History', 0.00069988580404392879),\n",
       " ('Thriller', 0.00068640812414991106),\n",
       " ('topic28', 0.00058748747435282713),\n",
       " ('topic23', 0.00054472729087501012),\n",
       " ('topic16', 0.00053842860039246727),\n",
       " ('Family', 0.00053625634699211899),\n",
       " ('topic12', 0.00048576640723207244),\n",
       " ('topic18', 0.00047823697946284931),\n",
       " ('Sci-Fi', 0.00046162832085686197),\n",
       " ('topic9', 0.00041184357731046122),\n",
       " ('Drama', 0.00039631897644369938),\n",
       " ('topic2', 0.00039112607118690402),\n",
       " ('topic27', 0.00038530775099507764),\n",
       " ('Romance', 0.00036894436673057582),\n",
       " ('Action', 0.00034320406207495613),\n",
       " ('Horror', 0.00032459215579457647),\n",
       " ('Comedy', 0.00032091808401815035),\n",
       " ('War', 0.00030541969587797143),\n",
       " ('Mystery', 0.00025339340223021439),\n",
       " ('topic4', 0.00025114697185988586),\n",
       " ('Animation', 0.00018501678413113389),\n",
       " ('Fantasy', 0.00017811554005737619),\n",
       " ('topic22', 0.00016833984740939538),\n",
       " ('Adventure', 8.5801015518739032e-05),\n",
       " ('topic21', 8.2736693535888605e-05),\n",
       " ('Musical', 5.7220683078492869e-05),\n",
       " ('Western', 2.3329437652499449e-05),\n",
       " ('Biography', 0.0),\n",
       " ('Sport', 0.0),\n",
       " ('Documentary', 0.0)]"
      ]
     },
     "execution_count": 15,
     "metadata": {},
     "output_type": "execute_result"
    }
   ],
   "source": [
    "LinearRegressor = m.fit(X_train, y_train)\n",
    "tree = p.fit(X_train, y_train)\n",
    "# d = dict(zip(list(X_train.columns), list(LinearRegressor.coef_)))\n",
    "d = dict(zip(list(X_train.columns), list(tree.feature_importances_)))\n",
    "s = sorted(d.items(),  key=operator.itemgetter(1))\n",
    "s.reverse()\n",
    "pickle.dump( tree, open( \"decision_tree.pkl\", \"wb\" ) )\n",
    "s"
   ]
  },
  {
   "cell_type": "markdown",
   "metadata": {
    "collapsed": true
   },
   "source": [
    "### test on Random Forest"
   ]
  },
  {
   "cell_type": "code",
   "execution_count": 20,
   "metadata": {
    "collapsed": false
   },
   "outputs": [
    {
     "name": "stdout",
     "output_type": "stream",
     "text": [
      "r2_score of Random Forest 0.650498356828\n"
     ]
    }
   ],
   "source": [
    "RF = RandomForestClassifier(min_samples_split=5, )\n",
    "avg = 0\n",
    "for i in range(100):\n",
    "    X_train, X_test, y_train, y_test = train_test_split(predictors, target, test_size=.3, random_state=123)\n",
    "    RF.fit(X_train, y_train)\n",
    "    y_RF = RF.predict(X_test)\n",
    "    r2_score_RF = r2_score(y_test, y_RF)\n",
    "    avg += r2_score_RF\n",
    "\n",
    "avg /= 100\n",
    "print('r2_score of Random Forest', avg)\n",
    "# def drawPlot(y1, y2, title):\n",
    "# \tplt.scatter(y1, y2)\n",
    "# \tplt.xlabel('predict_gross')\n",
    "# \tplt.ylabel('real_gross')\n",
    "# \tplt.title(title)\n",
    "# \tplt.show()\n",
    "    \n",
    "# plt.figure(1)\n",
    "# drawPlot(y_RF, y_test, 'RF')"
   ]
  },
  {
   "cell_type": "code",
   "execution_count": 17,
   "metadata": {
    "collapsed": false
   },
   "outputs": [
    {
     "name": "stderr",
     "output_type": "stream",
     "text": [
      "/usr/local/lib/python3.4/dist-packages/sklearn/utils/validation.py:386: DeprecationWarning: Passing 1d arrays as data is deprecated in 0.17 and willraise ValueError in 0.19. Reshape your data either using X.reshape(-1, 1) if your data has a single feature or X.reshape(1, -1) if it contains a single sample.\n",
      "  DeprecationWarning)\n"
     ]
    },
    {
     "data": {
      "text/plain": [
       "array([ 9.])"
      ]
     },
     "execution_count": 17,
     "metadata": {},
     "output_type": "execute_result"
    }
   ],
   "source": [
    "test = newMovie.loc[0, 'num_critic_for_reviews':'Documentary']\n",
    "tree.predict(test)"
   ]
  },
  {
   "cell_type": "code",
   "execution_count": null,
   "metadata": {
    "collapsed": true
   },
   "outputs": [],
   "source": []
  }
 ],
 "metadata": {
  "kernelspec": {
   "display_name": "Python 3",
   "language": "python",
   "name": "python3"
  },
  "language_info": {
   "codemirror_mode": {
    "name": "ipython",
    "version": 3
   },
   "file_extension": ".py",
   "mimetype": "text/x-python",
   "name": "python",
   "nbconvert_exporter": "python",
   "pygments_lexer": "ipython3",
   "version": "3.4.3"
  },
  "widgets": {
   "state": {},
   "version": "1.1.2"
  }
 },
 "nbformat": 4,
 "nbformat_minor": 0
}
