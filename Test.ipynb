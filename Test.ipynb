{
 "cells": [
  {
   "cell_type": "markdown",
   "metadata": {},
   "source": [
    "# Test the whole processing of an arbitrary input"
   ]
  },
  {
   "cell_type": "code",
   "execution_count": 2,
   "metadata": {
    "collapsed": true
   },
   "outputs": [],
   "source": [
    "import csv\n",
    "import pickle\n",
    "\n",
    "import pandas as pd\n",
    "import lda"
   ]
  },
  {
   "cell_type": "markdown",
   "metadata": {},
   "source": [
    "## import the statistics info of the database"
   ]
  },
  {
   "cell_type": "code",
   "execution_count": 3,
   "metadata": {
    "collapsed": false
   },
   "outputs": [],
   "source": [
    "movie = pd.read_csv('5000data.csv')\n",
    "directors = list(movie.loc[:,'director_name'])\n",
    "temp = list(movie.loc[:,'director_name'])\n",
    "directors_likes = [840 if temp[i]==0 else temp[i] for i in range(len(temp))]\n",
    "l1 = list(movie.loc[:,'actor_1_name'])\n",
    "l10 = list(movie.loc[:,'actor_1_facebook_likes'])\n",
    "l2 = list(movie.loc[:,'actor_2_name'])\n",
    "l20 = list(movie.loc[:,'actor_2_facebook_likes'])\n",
    "l3 = list(movie.loc[:,'actor_3_name'])\n",
    "l30 = list(movie.loc[:,'actor_3_facebook_likes'])\n",
    "actors = dict(zip(l1 + l2 + l3, l10 + l20 + l30))\n",
    "\n",
    "stat = pd.read_csv('statistics.csv')"
   ]
  },
  {
   "cell_type": "markdown",
   "metadata": {},
   "source": [
    "## make up a movie entry"
   ]
  },
  {
   "cell_type": "markdown",
   "metadata": {},
   "source": [
    "### basic info"
   ]
  },
  {
   "cell_type": "code",
   "execution_count": 44,
   "metadata": {
    "collapsed": true
   },
   "outputs": [],
   "source": [
    "duration = stat.loc[0, 'duration']\n",
    "budget = 3*10^8"
   ]
  },
  {
   "cell_type": "markdown",
   "metadata": {},
   "source": [
    "### Cast"
   ]
  },
  {
   "cell_type": "code",
   "execution_count": 45,
   "metadata": {
    "collapsed": true
   },
   "outputs": [],
   "source": [
    "director_facebook_likes = stat.loc[0, 'director_facebook_likes']\n",
    "actor_3_facebook_likes = stat.loc[0, 'actor_3_facebook_likes']\n",
    "actor_2_facebook_likes = stat.loc[0, 'actor_2_facebook_likes']\n",
    "actor_1_facebook_likes = stat.loc[0, 'actor_1_facebook_likes']\n",
    "cast_total_facebook_likes = stat.loc[0, 'cast_total_facebook_likes']"
   ]
  },
  {
   "cell_type": "markdown",
   "metadata": {},
   "source": [
    "### Review"
   ]
  },
  {
   "cell_type": "code",
   "execution_count": 46,
   "metadata": {
    "collapsed": false
   },
   "outputs": [],
   "source": [
    "movie_facebook_likes = stat.loc[0, 'movie_facebook_likes']\n",
    "num_critic_for_reviews = stat.loc[0, 'num_critic_for_reviews']\n",
    "num_user_for_reviews = stat.loc[0, 'num_user_for_reviews']\n",
    "num_voted_users = stat.loc[0, 'num_voted_users']\n",
    "imdb_score = stat.loc[0, 'imdb_score']"
   ]
  },
  {
   "cell_type": "markdown",
   "metadata": {},
   "source": [
    "### Content"
   ]
  },
  {
   "cell_type": "code",
   "execution_count": 8,
   "metadata": {
    "collapsed": false
   },
   "outputs": [],
   "source": [
    "description = ['alien', 'zombie', 'war', 'planet', 'fear', 'disaster', 'death', 'humanity']\n",
    "\n",
    "# Action,Adventure,Fantasy,Sci-Fi,Thriller,\n",
    "# Romance,Animation,Comedy,Family,Musical,\n",
    "# Mystery,Western,Drama,History, Sport\n",
    "# Crime,Horror,War,Biography,Music\n",
    "# Documentary\n",
    "genre = [0,0,1,1,1,0,1,0,0,0,1,0,1,0,0,0,0,1,0,0,0]"
   ]
  },
  {
   "cell_type": "markdown",
   "metadata": {},
   "source": [
    "#### Compute the topic vector"
   ]
  },
  {
   "cell_type": "code",
   "execution_count": 9,
   "metadata": {
    "collapsed": false
   },
   "outputs": [],
   "source": [
    "model = pickle.load(open(\"lda.pkl\",\"rb\"))"
   ]
  },
  {
   "cell_type": "code",
   "execution_count": 25,
   "metadata": {
    "collapsed": false
   },
   "outputs": [],
   "source": [
    "dict_ = []\n",
    "with open('dictionary.csv', 'r') as csvfile:\n",
    "    reader = csv.reader(csvfile, delimiter=',', quotechar='|')\n",
    "    for row in reader:\n",
    "        dict_ = row"
   ]
  },
  {
   "cell_type": "code",
   "execution_count": 26,
   "metadata": {
    "collapsed": false
   },
   "outputs": [
    {
     "data": {
      "text/plain": [
       "6"
      ]
     },
     "execution_count": 26,
     "metadata": {},
     "output_type": "execute_result"
    }
   ],
   "source": [
    "vec = []\n",
    "count = 0\n",
    "for i in range(len(dict_)):\n",
    "    if dict_[i] in description:\n",
    "        vec += [1]\n",
    "        count += 1\n",
    "    else:\n",
    "        vec += [0]\n",
    "count"
   ]
  },
  {
   "cell_type": "code",
   "execution_count": 28,
   "metadata": {
    "collapsed": false
   },
   "outputs": [],
   "source": [
    "movie = dict(zip(dict_, vec))\n",
    "movie = pd.DataFrame(movie, index=[0])\n",
    "movie = movie.values\n",
    "topic = model.transform(movie)"
   ]
  },
  {
   "cell_type": "code",
   "execution_count": 29,
   "metadata": {
    "collapsed": false
   },
   "outputs": [
    {
     "data": {
      "text/plain": [
       "[0.0004693045775345361,\n",
       " 0.00043845481245066107,\n",
       " 0.0003914644936237958,\n",
       " 0.0005202316533699878,\n",
       " 0.0004934575656496608,\n",
       " 0.0007603563684332934,\n",
       " 0.00046015466140852745,\n",
       " 0.00047002351291695394,\n",
       " 0.00044161016151573947,\n",
       " 0.057793553831633475,\n",
       " 0.0004926652124104733,\n",
       " 0.0004448112563802296,\n",
       " 0.18228660965071913,\n",
       " 0.15811834107577208,\n",
       " 0.00046787328487550074,\n",
       " 0.0005098576660740829,\n",
       " 0.0004108599030023417,\n",
       " 0.0004879640215764817,\n",
       " 0.0004982657311852644,\n",
       " 0.0004903033476540721,\n",
       " 0.04860694971505372,\n",
       " 0.0005264804505591966,\n",
       " 0.0004848794261932499,\n",
       " 0.0005073284977876552,\n",
       " 0.34067731874021323,\n",
       " 0.03807587347712969,\n",
       " 0.00045268658555013,\n",
       " 0.00042450250959286627,\n",
       " 0.000514129456696857,\n",
       " 0.16328368835303697]"
      ]
     },
     "execution_count": 29,
     "metadata": {},
     "output_type": "execute_result"
    }
   ],
   "source": [
    "topic = topic.tolist()[0]\n",
    "topic"
   ]
  },
  {
   "cell_type": "markdown",
   "metadata": {
    "collapsed": true
   },
   "source": [
    "### Combine them into a complete feature vector"
   ]
  },
  {
   "cell_type": "code",
   "execution_count": 48,
   "metadata": {
    "collapsed": false
   },
   "outputs": [],
   "source": [
    "feature = [\n",
    "    num_critic_for_reviews,\n",
    "    duration,\n",
    "    director_facebook_likes,\n",
    "    actor_3_facebook_likes,\n",
    "    actor_1_facebook_likes,\n",
    "    num_voted_users,\n",
    "    cast_total_facebook_likes,\n",
    "    num_user_for_reviews,\n",
    "    budget,\n",
    "    actor_2_facebook_likes,\n",
    "    imdb_score,\n",
    "    movie_facebook_likes]\n",
    "feature += topic"
   ]
  },
  {
   "cell_type": "markdown",
   "metadata": {},
   "source": [
    "### Preprocessing"
   ]
  },
  {
   "cell_type": "code",
   "execution_count": 42,
   "metadata": {
    "collapsed": false
   },
   "outputs": [
    {
     "data": {
      "text/plain": [
       "2.0"
      ]
     },
     "execution_count": 42,
     "metadata": {},
     "output_type": "execute_result"
    }
   ],
   "source": [
    "## test with a training entry\n",
    "meaning = pd.read_csv('meaningful.csv')\n",
    "binned = pd.read_csv('binned.csv')\n",
    "n = 1024\n",
    "feature = meaning.loc[n, 'num_critic_for_reviews':'topic29']\n",
    "del feature['gross']\n",
    "genre = meaning.loc[n, 'Action':'Documentary']\n",
    "binned.loc[n, 'gross']"
   ]
  },
  {
   "cell_type": "code",
   "execution_count": 43,
   "metadata": {
    "collapsed": false
   },
   "outputs": [],
   "source": [
    "feature -= stat.loc[0]\n",
    "feature /= stat.loc[1]\n",
    "\n",
    "feature -= stat.loc[2]\n",
    "feature /= stat.loc[3] - stat.loc[2]\n",
    "feature *= 2\n",
    "feature -= 1.0\n",
    "\n",
    "# feature = feature.append(pd.DataFrame(genre)).T\n",
    "feature = pd.concat([feature, genre])"
   ]
  },
  {
   "cell_type": "code",
   "execution_count": 44,
   "metadata": {
    "collapsed": false
   },
   "outputs": [
    {
     "name": "stderr",
     "output_type": "stream",
     "text": [
      "/usr/local/lib/python3.4/dist-packages/sklearn/utils/validation.py:386: DeprecationWarning: Passing 1d arrays as data is deprecated in 0.17 and willraise ValueError in 0.19. Reshape your data either using X.reshape(-1, 1) if your data has a single feature or X.reshape(1, -1) if it contains a single sample.\n",
      "  DeprecationWarning)\n"
     ]
    }
   ],
   "source": [
    "model = pickle.load(open('decision_tree.pkl', 'rb'))\n",
    "result = model.predict(feature)"
   ]
  },
  {
   "cell_type": "code",
   "execution_count": 45,
   "metadata": {
    "collapsed": false
   },
   "outputs": [
    {
     "data": {
      "text/plain": [
       "array([ 2.])"
      ]
     },
     "execution_count": 45,
     "metadata": {},
     "output_type": "execute_result"
    }
   ],
   "source": [
    "result"
   ]
  },
  {
   "cell_type": "code",
   "execution_count": 57,
   "metadata": {
    "collapsed": true
   },
   "outputs": [],
   "source": [
    "features = list(feature.columns)"
   ]
  },
  {
   "cell_type": "code",
   "execution_count": 58,
   "metadata": {
    "collapsed": false
   },
   "outputs": [
    {
     "name": "stdout",
     "output_type": "stream",
     "text": [
      "budget\n",
      "topic9\n",
      "topic5\n",
      "topic29\n",
      "topic18\n",
      "num_voted_users\n",
      "num_user_for_reviews\n",
      "topic4\n",
      "director_facebook_likes\n",
      "cast_total_facebook_likes\n"
     ]
    }
   ],
   "source": [
    "import operator\n",
    "imp = list(model.feature_importances_)\n",
    "imp = dict(zip(range(63), imp))\n",
    "sorted_x = sorted(imp.items(), key=operator.itemgetter(1))\n",
    "sorted_x.reverse()\n",
    "for i in range(10):\n",
    "    print(features[sorted_x[i][0]])"
   ]
  },
  {
   "cell_type": "code",
   "execution_count": null,
   "metadata": {
    "collapsed": true
   },
   "outputs": [],
   "source": []
  }
 ],
 "metadata": {
  "kernelspec": {
   "display_name": "Python 3",
   "language": "python",
   "name": "python3"
  },
  "language_info": {
   "codemirror_mode": {
    "name": "ipython",
    "version": 3
   },
   "file_extension": ".py",
   "mimetype": "text/x-python",
   "name": "python",
   "nbconvert_exporter": "python",
   "pygments_lexer": "ipython3",
   "version": "3.4.3"
  },
  "widgets": {
   "state": {},
   "version": "1.1.2"
  }
 },
 "nbformat": 4,
 "nbformat_minor": 0
}
